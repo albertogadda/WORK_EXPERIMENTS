{
  "nbformat": 4,
  "nbformat_minor": 0,
  "metadata": {
    "colab": {
      "provenance": [],
      "collapsed_sections": [
        "RlA1jERQjq9I",
        "rTvtLQzYkPvI"
      ],
      "authorship_tag": "ABX9TyO0DTcMUwBLP8sHiHUywnee"
    },
    "kernelspec": {
      "name": "python3",
      "display_name": "Python 3"
    },
    "language_info": {
      "name": "python"
    }
  },
  "cells": [
    {
      "cell_type": "markdown",
      "source": [
        "**Obiettivo:** Data una lista di documenti testuali, ed una query in formato testuale, reperire i documenti più pertinenti alla query. \\\\\n",
        "\n",
        "**Strumenti:** Transformers che creano un embedding sia per i documenti che per la query, in modo da poter sfruttare una misura di similarità documento-query per reperire i documenti più simili e quindi pertinenti.\n"
      ],
      "metadata": {
        "id": "Mky26NZjE2cB"
      }
    },
    {
      "cell_type": "markdown",
      "source": [
        "## **BERT** *(Sconsigliato, ad oggi esistono modelli più performanti su questo task)*"
      ],
      "metadata": {
        "id": "RlA1jERQjq9I"
      }
    },
    {
      "cell_type": "code",
      "source": [
        "!pip install transformers\n",
        "from transformers import AutoTokenizer, AutoModel\n",
        "import torch\n",
        "from sklearn.metrics.pairwise import cosine_similarity\n",
        "\n",
        "model_name = \"sentence-transformers/bert-base-nli-mean-tokens\"\n",
        "# https://huggingface.co/sentence-transformers/bert-base-nli-mean-tokens"
      ],
      "metadata": {
        "id": "98nVh8Paf6E4"
      },
      "execution_count": null,
      "outputs": []
    },
    {
      "cell_type": "code",
      "source": [
        "def create_embedding(x, tokenizer, model):\n",
        "  \"\"\"Crea l' embedding della lista di documenti passati, sottoforma di una lista di stringhe (x)\"\"\"\n",
        "\n",
        "  tokens = {'input_ids':[], 'attention_mask':[]}\n",
        "  for sentence in x:\n",
        "    new_tokens = tokenizer.encode_plus(sentence,\n",
        "                          max_length=128,\n",
        "                          truncation=True,\n",
        "                          padding = 'max_length',\n",
        "                          return_tensors = 'pt')\n",
        "    tokens['input_ids'].append(new_tokens['input_ids'][0])\n",
        "    tokens['attention_mask'].append(new_tokens['attention_mask'][0])\n",
        "\n",
        "  tokens['input_ids'] = torch.stack(tokens['input_ids'])\n",
        "  tokens['attention_mask'] = torch.stack(tokens['attention_mask'])\n",
        "\n",
        "  outputs = model(**tokens)\n",
        "\n",
        "  embeddings = outputs.last_hidden_state\n",
        "\n",
        "  attention = tokens['attention_mask']\n",
        "  mask = attention.unsqueeze(-1).expand(embeddings.shape).float()\n",
        "\n",
        "  mask_embeddings = embeddings*mask\n",
        "\n",
        "  summed = torch.sum(mask_embeddings, 1)\n",
        "  counts = torch.clamp(mask.sum(1), min=1e-9)\n",
        "  mean_pooled = summed/counts\n",
        "  mean_pooled = mean_pooled.detach().numpy()\n",
        "\n",
        "  return mean_pooled"
      ],
      "metadata": {
        "id": "v37kacZcfE9e"
      },
      "execution_count": 13,
      "outputs": []
    },
    {
      "cell_type": "code",
      "source": [
        "def get_pertinent_documents(query_embedding, documents_embeddings, documents):\n",
        "  \"\"\"Dato l'embedding di una query, e di una lista di documenti, stampa l'ordinamento dei documenti in ordine di pertinenza\"\"\"\n",
        "\n",
        "  sim = cosine_similarity(\n",
        "    query_embedding,\n",
        "    documents_embeddings\n",
        "    )\n",
        "  order = sorted(range(len(sim[0])), key=lambda k: sim[0][k])\n",
        "  order.reverse()\n",
        "\n",
        "  for i,j in enumerate(order):\n",
        "    print(f\"{i}: {documents[j]}\")"
      ],
      "metadata": {
        "id": "CXb7IZ52fGTh"
      },
      "execution_count": 14,
      "outputs": []
    },
    {
      "cell_type": "code",
      "source": [
        "tokenizer = AutoTokenizer.from_pretrained(model_name)\n",
        "model = AutoModel.from_pretrained(model_name)"
      ],
      "metadata": {
        "id": "PBkBh0iEkDT7"
      },
      "execution_count": null,
      "outputs": []
    },
    {
      "cell_type": "code",
      "source": [
        "documents = [\"La Pinacoteca di Brera, situata nel cuore di Milano, è una prestigiosa galleria d'arte che ospita una ricca collezione di opere italiane dal XIV al XX secolo. Celebrata per capolavori di artisti come Raphael, Caravaggio e Mantegna\",\n",
        "\"Roma è il cuore pulsante della storia e della cultura italiana. Con oltre duemila anni di storia, la città vanta imponenti monumenti come il Colosseo e il Pantheon, testimonianze della grandezza dell'antica Roma. Il Vaticano, con la Basilica di San Pietro e la Cappella Sistina, aggiunge un tocco spirituale a questa metropoli cosmopolita, che continua a incantare con la sua architettura maestosa e il suo stile di vita vibrante\",\n",
        "\"Il rugby, sport di squadra nato nell'Inghilterra del XIX secolo, si distingue per la sua combinazione di forza, tattica e fair play. Caratterizzato dai placcaggi e dalla solidarietà di squadra, il rugby promuove valori di lealtà e rispetto, creando un'atmosfera unica di cameratismo sul campo di gioco\",\n",
        "\"Milano, capitale economica e della moda italiana, incanta con la sua vibrante energia urbana. Icone architettoniche come il Duomo e la moderna skyline si fondono con l'arte contemporanea e la vivace scena culinaria. Centro pulsante di innovazione e cultura, Milano è una città dinamica che unisce tradizione e modernità con eleganza e stile\",\n",
        "\"I fantasmi, creature leggendarie che popolano l'immaginario collettivo, sono spesso associati al mistero e all'oltremondano. I fantasmi evocano sensazioni di timore e curiosità, alimentando paure in molte persone\",\n",
        "\"Il tofu, derivato dalla soia, è un versatile alimento ricco di proteine e povero di grassi. Apprezzato per la sua consistenza delicata, il tofu si presta a molteplici preparazioni culinarie, assumendo sapori diversi nelle varie cucine del mondo. La sua versatilità lo rende una scelta popolare per chi segue diete vegetariane e vegane\",\n",
        "\"Gli Uffizi, situati nel cuore di Firenze, costituiscono uno dei musei d'arte più celebri al mondo. La loro straordinaria collezione comprende capolavori di artisti come Botticelli, Michelangelo e Leonardo da Vinci, offrendo ai visitatori un viaggio affascinante attraverso la storia dell'arte rinascimentale italiana\",\n",
        "\"Vinavil è un adesivo vinilico multiuso noto per la sua versatilità e aderenza affidabile. Utilizzato comunemente in ambito scolastico e fai-da-te, Vinavil è apprezzato per la sua capacità di incollare diversi materiali, dalla carta al legno, offrendo una soluzione pratica e resistente per molteplici progetti\",\n",
        "\"Il cellulare, ormai indispensabile nella vita moderna, è uno strumento versatile che va oltre la semplice comunicazione. Con funzionalità avanzate, come fotocamere di alta qualità, accesso a internet e applicazioni specializzate, il cellulare si è trasformato in un compagno quotidiano, rivoluzionando la nostra connessione con il mondo e le relazioni sociali\",\n",
        "\"L'Intelligenza Artificiale (AI) rappresenta una frontiera rivoluzionaria nell'informatica, consentendo alle macchine di apprendere, ragionare e risolvere problemi complessi in modo simile all'intelligenza umana. Dalle applicazioni pratiche come assistenti virtuali e veicoli autonomi a scopi più avanzati come la diagnosi medica, l'AI continua a plasmare il futuro con innovazioni che sfidano i limiti delle capacità umane\"]\n",
        "\n",
        "query = \"Sto cercando un posto artistico da visitare in italia, cosa potrei scegliere\""
      ],
      "metadata": {
        "id": "a91pHcsCkKK2"
      },
      "execution_count": 39,
      "outputs": []
    },
    {
      "cell_type": "code",
      "source": [
        "documents_embeddings = create_embedding(documents, tokenizer, model)\n",
        "query_embedding = create_embedding([query], tokenizer, model)"
      ],
      "metadata": {
        "id": "vA3XSHI1fH24"
      },
      "execution_count": 15,
      "outputs": []
    },
    {
      "cell_type": "code",
      "source": [
        "get_pertinent_documents(query_embedding, documents_embeddings, documents)"
      ],
      "metadata": {
        "colab": {
          "base_uri": "https://localhost:8080/",
          "height": 0
        },
        "id": "rLtAl5IkfJH3",
        "outputId": "94858f35-5efb-47b5-a812-09122d9b00a5"
      },
      "execution_count": 16,
      "outputs": [
        {
          "output_type": "stream",
          "name": "stdout",
          "text": [
            "0: La Pinacoteca di Brera, situata nel cuore di Milano, è una prestigiosa galleria d'arte che ospita una ricca collezione di opere italiane dal XIV al XX secolo. Celebrata per capolavori di artisti come Raphael, Caravaggio e Mantegna\n",
            "1: Gli Uffizi, situati nel cuore di Firenze, costituiscono uno dei musei d'arte più celebri al mondo. La loro straordinaria collezione comprende capolavori di artisti come Botticelli, Michelangelo e Leonardo da Vinci, offrendo ai visitatori un viaggio affascinante attraverso la storia dell'arte rinascimentale italiana\n",
            "2: Roma è il cuore pulsante della storia e della cultura italiana. Con oltre duemila anni di storia, la città vanta imponenti monumenti come il Colosseo e il Pantheon, testimonianze della grandezza dell'antica Roma. Il Vaticano, con la Basilica di San Pietro e la Cappella Sistina, aggiunge un tocco spirituale a questa metropoli cosmopolita, che continua a incantare con la sua architettura maestosa e il suo stile di vita vibrante\n",
            "3: I fantasmi, creature leggendarie che popolano l'immaginario collettivo, sono spesso associati al mistero e all'oltremondano. I fantasmi evocano sensazioni di timore e curiosità, alimentando paure in molte persone\n",
            "4: Milano, capitale economica e della moda italiana, incanta con la sua vibrante energia urbana. Icone architettoniche come il Duomo e la moderna skyline si fondono con l'arte contemporanea e la vivace scena culinaria. Centro pulsante di innovazione e cultura, Milano è una città dinamica che unisce tradizione e modernità con eleganza e stile\n",
            "5: Il cellulare, ormai indispensabile nella vita moderna, è uno strumento versatile che va oltre la semplice comunicazione. Con funzionalità avanzate, come fotocamere di alta qualità, accesso a internet e applicazioni specializzate, il cellulare si è trasformato in un compagno quotidiano, rivoluzionando la nostra connessione con il mondo e le relazioni sociali\n",
            "6: L'Intelligenza Artificiale (AI) rappresenta una frontiera rivoluzionaria nell'informatica, consentendo alle macchine di apprendere, ragionare e risolvere problemi complessi in modo simile all'intelligenza umana. Dalle applicazioni pratiche come assistenti virtuali e veicoli autonomi a scopi più avanzati come la diagnosi medica, l'AI continua a plasmare il futuro con innovazioni che sfidano i limiti delle capacità umane\n",
            "7: Vinavil è un adesivo vinilico multiuso noto per la sua versatilità e aderenza affidabile. Utilizzato comunemente in ambito scolastico e fai-da-te, Vinavil è apprezzato per la sua capacità di incollare diversi materiali, dalla carta al legno, offrendo una soluzione pratica e resistente per molteplici progetti\n",
            "8: Il rugby, sport di squadra nato nell'Inghilterra del XIX secolo, si distingue per la sua combinazione di forza, tattica e fair play. Caratterizzato dai placcaggi e dalla solidarietà di squadra, il rugby promuove valori di lealtà e rispetto, creando un'atmosfera unica di cameratismo sul campo di gioco\n",
            "9: Il tofu, derivato dalla soia, è un versatile alimento ricco di proteine e povero di grassi. Apprezzato per la sua consistenza delicata, il tofu si presta a molteplici preparazioni culinarie, assumendo sapori diversi nelle varie cucine del mondo. La sua versatilità lo rende una scelta popolare per chi segue diete vegetariane e vegane\n"
          ]
        }
      ]
    },
    {
      "cell_type": "markdown",
      "source": [
        "## **NUOVI MODELLI**"
      ],
      "metadata": {
        "id": "rTvtLQzYkPvI"
      }
    },
    {
      "cell_type": "markdown",
      "source": [
        "I modelli ad oggi consigliati sono i seguenti:\n",
        "\n",
        "* all-mpnet-base-v2\n",
        "* multi-qa-mpnet-base-dot-v1\n",
        "* all-distilroberta-v1\n",
        "* all-MiniLM-L12-v2\n",
        "* multi-qa-distilbert-cos-v1\n",
        "* all-MiniLM-L6-v2\n",
        "\n",
        "Quasi tutti sono versioni fine-tunate di modelli piu \"famosi\", la documentazione è consultabile al seguente link: \\\\\n",
        "https://www.sbert.net/docs/pretrained_models.html\n"
      ],
      "metadata": {
        "id": "T-c_BvOlCmhj"
      }
    },
    {
      "cell_type": "code",
      "source": [
        "!pip install -U sentence-transformers\n",
        "from sentence_transformers import SentenceTransformer, util"
      ],
      "metadata": {
        "id": "Gyu3h-3Yk8KH"
      },
      "execution_count": null,
      "outputs": []
    },
    {
      "cell_type": "code",
      "source": [
        "#Genero dei documenti di esempio, appartenenti a categorie diverse\n",
        "documents = [\n",
        "    \"La Pinacoteca di Brera, situata nel cuore di Milano, è una prestigiosa galleria d'arte che ospita una ricca collezione di opere italiane dal XIV al XX secolo. Celebrata per capolavori di artisti come Raphael, Caravaggio e Mantegna\",\n",
        "    \"Roma è il cuore pulsante della storia e della cultura italiana. Con oltre duemila anni di storia, la città vanta imponenti monumenti come il Colosseo e il Pantheon, testimonianze della grandezza dell'antica Roma. Il Vaticano, con la Basilica di San Pietro e la Cappella Sistina, aggiunge un tocco spirituale a questa metropoli cosmopolita, che continua a incantare con la sua architettura maestosa e il suo stile di vita vibrante\",\n",
        "    \"Il rugby, sport di squadra nato nell'Inghilterra del XIX secolo, si distingue per la sua combinazione di forza, tattica e fair play. Caratterizzato dai placcaggi e dalla solidarietà di squadra, il rugby promuove valori di lealtà e rispetto, creando un'atmosfera unica di cameratismo sul campo di gioco\",\n",
        "    \"Milano, capitale economica e della moda italiana, incanta con la sua vibrante energia urbana. Icone architettoniche come il Duomo e la moderna skyline si fondono con l'arte contemporanea e la vivace scena culinaria. Centro pulsante di innovazione e cultura, Milano è una città dinamica che unisce tradizione e modernità con eleganza e stile\",\n",
        "    \"I fantasmi, creature leggendarie che popolano l'immaginario collettivo, sono spesso associati al mistero e all'oltremondano. I fantasmi evocano sensazioni di timore e curiosità, alimentando paure in molte persone\",\n",
        "    \"Il tofu, derivato dalla soia, è un versatile alimento ricco di proteine e povero di grassi. Apprezzato per la sua consistenza delicata, il tofu si presta a molteplici preparazioni culinarie, assumendo sapori diversi nelle varie cucine del mondo. La sua versatilità lo rende una scelta popolare per chi segue diete vegetariane e vegane\",\n",
        "    \"Gli Uffizi, situati nel cuore di Firenze, costituiscono uno dei musei d'arte più celebri al mondo. La loro straordinaria collezione comprende capolavori di artisti come Botticelli, Michelangelo e Leonardo da Vinci, offrendo ai visitatori un viaggio affascinante attraverso la storia dell'arte rinascimentale italiana\",\n",
        "    \"Vinavil è un adesivo vinilico multiuso noto per la sua versatilità e aderenza affidabile. Utilizzato comunemente in ambito scolastico e fai-da-te, Vinavil è apprezzato per la sua capacità di incollare diversi materiali, dalla carta al legno, offrendo una soluzione pratica e resistente per molteplici progetti\",\n",
        "    \"Il cellulare, ormai indispensabile nella vita moderna, è uno strumento versatile che va oltre la semplice comunicazione. Con funzionalità avanzate, come fotocamere di alta qualità, accesso a internet e applicazioni specializzate, il cellulare si è trasformato in un compagno quotidiano, rivoluzionando la nostra connessione con il mondo e le relazioni sociali\",\n",
        "    \"L'Intelligenza Artificiale (AI) rappresenta una frontiera rivoluzionaria nell'informatica, consentendo alle macchine di apprendere, ragionare e risolvere problemi complessi in modo simile all'intelligenza umana. Dalle applicazioni pratiche come assistenti virtuali e veicoli autonomi a scopi più avanzati come la diagnosi medica, l'AI continua a plasmare il futuro con innovazioni che sfidano i limiti delle capacità umane\"\n",
        "]"
      ],
      "metadata": {
        "id": "n9ZGUqZLwYqQ"
      },
      "execution_count": null,
      "outputs": []
    },
    {
      "cell_type": "code",
      "source": [
        "def get_best_documents(model_name, query, documents):\n",
        "  \"\"\"Calcola l'embedding dei documenti e della query, e utilizza una misura di similarità (dot product) per identificare i documenti più pertinenti\"\"\"\n",
        "\n",
        "  model = SentenceTransformer(model_name)\n",
        "  query_embedding = model.encode(query)\n",
        "  documents_embedding = model.encode(documents)\n",
        "  sim = util.dot_score(query_embedding, documents_embedding)\n",
        "  order = sorted(range(len(sim[0])), key=lambda k: sim[0][k])\n",
        "  order.reverse()\n",
        "  for i,j in enumerate(order):\n",
        "    print(f\"{i}: ({sim[0][j]}) - {documents[j]}\")"
      ],
      "metadata": {
        "id": "zRMG0YPEm905"
      },
      "execution_count": 56,
      "outputs": []
    },
    {
      "cell_type": "code",
      "source": [
        "query = \"Sto cercando un posto artistico da visitare in italia, cosa potrei scegliere\""
      ],
      "metadata": {
        "id": "0pIm0DScyNO4"
      },
      "execution_count": null,
      "outputs": []
    },
    {
      "cell_type": "code",
      "source": [
        "# Per ogni modello analizziamo la classifica di documenti restituita, con di fianco lo score di similarità calcolato\n",
        "for m in ['all-mpnet-base-v2','multi-qa-mpnet-base-dot-v1','all-distilroberta-v1','all-MiniLM-L12-v2','multi-qa-distilbert-cos-v1','all-MiniLM-L6-v2']:\n",
        "  print(f\"###  {m}  #############################################################\")\n",
        "  get_best_documents(m, query, documents)\n",
        "  print(\"\\n\\n\")"
      ],
      "metadata": {
        "colab": {
          "base_uri": "https://localhost:8080/",
          "height": 0
        },
        "id": "rBQ4QNWgj8WV",
        "outputId": "a5171970-c8da-4ccc-8edd-de6baab7bd44"
      },
      "execution_count": 50,
      "outputs": [
        {
          "output_type": "stream",
          "name": "stdout",
          "text": [
            "###  all-mpnet-base-v2  #############################################################\n",
            "0: (0.6867842674255371) - La Pinacoteca di Brera, situata nel cuore di Milano, è una prestigiosa galleria d'arte che ospita una ricca collezione di opere italiane dal XIV al XX secolo. Celebrata per capolavori di artisti come Raphael, Caravaggio e Mantegna\n",
            "1: (0.6862706542015076) - Gli Uffizi, situati nel cuore di Firenze, costituiscono uno dei musei d'arte più celebri al mondo. La loro straordinaria collezione comprende capolavori di artisti come Botticelli, Michelangelo e Leonardo da Vinci, offrendo ai visitatori un viaggio affascinante attraverso la storia dell'arte rinascimentale italiana\n",
            "2: (0.6269183158874512) - Milano, capitale economica e della moda italiana, incanta con la sua vibrante energia urbana. Icone architettoniche come il Duomo e la moderna skyline si fondono con l'arte contemporanea e la vivace scena culinaria. Centro pulsante di innovazione e cultura, Milano è una città dinamica che unisce tradizione e modernità con eleganza e stile\n",
            "3: (0.5860756635665894) - Roma è il cuore pulsante della storia e della cultura italiana. Con oltre duemila anni di storia, la città vanta imponenti monumenti come il Colosseo e il Pantheon, testimonianze della grandezza dell'antica Roma. Il Vaticano, con la Basilica di San Pietro e la Cappella Sistina, aggiunge un tocco spirituale a questa metropoli cosmopolita, che continua a incantare con la sua architettura maestosa e il suo stile di vita vibrante\n",
            "4: (0.4908072352409363) - I fantasmi, creature leggendarie che popolano l'immaginario collettivo, sono spesso associati al mistero e all'oltremondano. I fantasmi evocano sensazioni di timore e curiosità, alimentando paure in molte persone\n",
            "5: (0.48129087686538696) - Il cellulare, ormai indispensabile nella vita moderna, è uno strumento versatile che va oltre la semplice comunicazione. Con funzionalità avanzate, come fotocamere di alta qualità, accesso a internet e applicazioni specializzate, il cellulare si è trasformato in un compagno quotidiano, rivoluzionando la nostra connessione con il mondo e le relazioni sociali\n",
            "6: (0.4779941439628601) - Il rugby, sport di squadra nato nell'Inghilterra del XIX secolo, si distingue per la sua combinazione di forza, tattica e fair play. Caratterizzato dai placcaggi e dalla solidarietà di squadra, il rugby promuove valori di lealtà e rispetto, creando un'atmosfera unica di cameratismo sul campo di gioco\n",
            "7: (0.3071669340133667) - Vinavil è un adesivo vinilico multiuso noto per la sua versatilità e aderenza affidabile. Utilizzato comunemente in ambito scolastico e fai-da-te, Vinavil è apprezzato per la sua capacità di incollare diversi materiali, dalla carta al legno, offrendo una soluzione pratica e resistente per molteplici progetti\n",
            "8: (0.3021835684776306) - Il tofu, derivato dalla soia, è un versatile alimento ricco di proteine e povero di grassi. Apprezzato per la sua consistenza delicata, il tofu si presta a molteplici preparazioni culinarie, assumendo sapori diversi nelle varie cucine del mondo. La sua versatilità lo rende una scelta popolare per chi segue diete vegetariane e vegane\n",
            "9: (0.16526278853416443) - L'Intelligenza Artificiale (AI) rappresenta una frontiera rivoluzionaria nell'informatica, consentendo alle macchine di apprendere, ragionare e risolvere problemi complessi in modo simile all'intelligenza umana. Dalle applicazioni pratiche come assistenti virtuali e veicoli autonomi a scopi più avanzati come la diagnosi medica, l'AI continua a plasmare il futuro con innovazioni che sfidano i limiti delle capacità umane\n",
            "\n",
            "\n",
            "\n",
            "###  multi-qa-mpnet-base-dot-v1  #############################################################\n",
            "0: (21.24347496032715) - Gli Uffizi, situati nel cuore di Firenze, costituiscono uno dei musei d'arte più celebri al mondo. La loro straordinaria collezione comprende capolavori di artisti come Botticelli, Michelangelo e Leonardo da Vinci, offrendo ai visitatori un viaggio affascinante attraverso la storia dell'arte rinascimentale italiana\n",
            "1: (20.22873306274414) - Roma è il cuore pulsante della storia e della cultura italiana. Con oltre duemila anni di storia, la città vanta imponenti monumenti come il Colosseo e il Pantheon, testimonianze della grandezza dell'antica Roma. Il Vaticano, con la Basilica di San Pietro e la Cappella Sistina, aggiunge un tocco spirituale a questa metropoli cosmopolita, che continua a incantare con la sua architettura maestosa e il suo stile di vita vibrante\n",
            "2: (19.80547523498535) - Milano, capitale economica e della moda italiana, incanta con la sua vibrante energia urbana. Icone architettoniche come il Duomo e la moderna skyline si fondono con l'arte contemporanea e la vivace scena culinaria. Centro pulsante di innovazione e cultura, Milano è una città dinamica che unisce tradizione e modernità con eleganza e stile\n",
            "3: (19.54522705078125) - La Pinacoteca di Brera, situata nel cuore di Milano, è una prestigiosa galleria d'arte che ospita una ricca collezione di opere italiane dal XIV al XX secolo. Celebrata per capolavori di artisti come Raphael, Caravaggio e Mantegna\n",
            "4: (17.323949813842773) - I fantasmi, creature leggendarie che popolano l'immaginario collettivo, sono spesso associati al mistero e all'oltremondano. I fantasmi evocano sensazioni di timore e curiosità, alimentando paure in molte persone\n",
            "5: (15.921542167663574) - Il rugby, sport di squadra nato nell'Inghilterra del XIX secolo, si distingue per la sua combinazione di forza, tattica e fair play. Caratterizzato dai placcaggi e dalla solidarietà di squadra, il rugby promuove valori di lealtà e rispetto, creando un'atmosfera unica di cameratismo sul campo di gioco\n",
            "6: (14.120270729064941) - Il cellulare, ormai indispensabile nella vita moderna, è uno strumento versatile che va oltre la semplice comunicazione. Con funzionalità avanzate, come fotocamere di alta qualità, accesso a internet e applicazioni specializzate, il cellulare si è trasformato in un compagno quotidiano, rivoluzionando la nostra connessione con il mondo e le relazioni sociali\n",
            "7: (12.916853904724121) - L'Intelligenza Artificiale (AI) rappresenta una frontiera rivoluzionaria nell'informatica, consentendo alle macchine di apprendere, ragionare e risolvere problemi complessi in modo simile all'intelligenza umana. Dalle applicazioni pratiche come assistenti virtuali e veicoli autonomi a scopi più avanzati come la diagnosi medica, l'AI continua a plasmare il futuro con innovazioni che sfidano i limiti delle capacità umane\n",
            "8: (10.958490371704102) - Il tofu, derivato dalla soia, è un versatile alimento ricco di proteine e povero di grassi. Apprezzato per la sua consistenza delicata, il tofu si presta a molteplici preparazioni culinarie, assumendo sapori diversi nelle varie cucine del mondo. La sua versatilità lo rende una scelta popolare per chi segue diete vegetariane e vegane\n",
            "9: (9.862627029418945) - Vinavil è un adesivo vinilico multiuso noto per la sua versatilità e aderenza affidabile. Utilizzato comunemente in ambito scolastico e fai-da-te, Vinavil è apprezzato per la sua capacità di incollare diversi materiali, dalla carta al legno, offrendo una soluzione pratica e resistente per molteplici progetti\n",
            "\n",
            "\n",
            "\n",
            "###  all-distilroberta-v1  #############################################################\n",
            "0: (0.6452159881591797) - Gli Uffizi, situati nel cuore di Firenze, costituiscono uno dei musei d'arte più celebri al mondo. La loro straordinaria collezione comprende capolavori di artisti come Botticelli, Michelangelo e Leonardo da Vinci, offrendo ai visitatori un viaggio affascinante attraverso la storia dell'arte rinascimentale italiana\n",
            "1: (0.5419323444366455) - Roma è il cuore pulsante della storia e della cultura italiana. Con oltre duemila anni di storia, la città vanta imponenti monumenti come il Colosseo e il Pantheon, testimonianze della grandezza dell'antica Roma. Il Vaticano, con la Basilica di San Pietro e la Cappella Sistina, aggiunge un tocco spirituale a questa metropoli cosmopolita, che continua a incantare con la sua architettura maestosa e il suo stile di vita vibrante\n",
            "2: (0.5011129975318909) - I fantasmi, creature leggendarie che popolano l'immaginario collettivo, sono spesso associati al mistero e all'oltremondano. I fantasmi evocano sensazioni di timore e curiosità, alimentando paure in molte persone\n",
            "3: (0.4880555272102356) - La Pinacoteca di Brera, situata nel cuore di Milano, è una prestigiosa galleria d'arte che ospita una ricca collezione di opere italiane dal XIV al XX secolo. Celebrata per capolavori di artisti come Raphael, Caravaggio e Mantegna\n",
            "4: (0.4624762535095215) - Milano, capitale economica e della moda italiana, incanta con la sua vibrante energia urbana. Icone architettoniche come il Duomo e la moderna skyline si fondono con l'arte contemporanea e la vivace scena culinaria. Centro pulsante di innovazione e cultura, Milano è una città dinamica che unisce tradizione e modernità con eleganza e stile\n",
            "5: (0.4309162497520447) - Il tofu, derivato dalla soia, è un versatile alimento ricco di proteine e povero di grassi. Apprezzato per la sua consistenza delicata, il tofu si presta a molteplici preparazioni culinarie, assumendo sapori diversi nelle varie cucine del mondo. La sua versatilità lo rende una scelta popolare per chi segue diete vegetariane e vegane\n",
            "6: (0.4271380305290222) - Il cellulare, ormai indispensabile nella vita moderna, è uno strumento versatile che va oltre la semplice comunicazione. Con funzionalità avanzate, come fotocamere di alta qualità, accesso a internet e applicazioni specializzate, il cellulare si è trasformato in un compagno quotidiano, rivoluzionando la nostra connessione con il mondo e le relazioni sociali\n",
            "7: (0.420046865940094) - Il rugby, sport di squadra nato nell'Inghilterra del XIX secolo, si distingue per la sua combinazione di forza, tattica e fair play. Caratterizzato dai placcaggi e dalla solidarietà di squadra, il rugby promuove valori di lealtà e rispetto, creando un'atmosfera unica di cameratismo sul campo di gioco\n",
            "8: (0.38863426446914673) - Vinavil è un adesivo vinilico multiuso noto per la sua versatilità e aderenza affidabile. Utilizzato comunemente in ambito scolastico e fai-da-te, Vinavil è apprezzato per la sua capacità di incollare diversi materiali, dalla carta al legno, offrendo una soluzione pratica e resistente per molteplici progetti\n",
            "9: (0.27677738666534424) - L'Intelligenza Artificiale (AI) rappresenta una frontiera rivoluzionaria nell'informatica, consentendo alle macchine di apprendere, ragionare e risolvere problemi complessi in modo simile all'intelligenza umana. Dalle applicazioni pratiche come assistenti virtuali e veicoli autonomi a scopi più avanzati come la diagnosi medica, l'AI continua a plasmare il futuro con innovazioni che sfidano i limiti delle capacità umane\n",
            "\n",
            "\n",
            "\n",
            "###  all-MiniLM-L12-v2  #############################################################\n",
            "0: (0.6536350250244141) - Gli Uffizi, situati nel cuore di Firenze, costituiscono uno dei musei d'arte più celebri al mondo. La loro straordinaria collezione comprende capolavori di artisti come Botticelli, Michelangelo e Leonardo da Vinci, offrendo ai visitatori un viaggio affascinante attraverso la storia dell'arte rinascimentale italiana\n",
            "1: (0.5885698795318604) - La Pinacoteca di Brera, situata nel cuore di Milano, è una prestigiosa galleria d'arte che ospita una ricca collezione di opere italiane dal XIV al XX secolo. Celebrata per capolavori di artisti come Raphael, Caravaggio e Mantegna\n",
            "2: (0.5672690868377686) - Roma è il cuore pulsante della storia e della cultura italiana. Con oltre duemila anni di storia, la città vanta imponenti monumenti come il Colosseo e il Pantheon, testimonianze della grandezza dell'antica Roma. Il Vaticano, con la Basilica di San Pietro e la Cappella Sistina, aggiunge un tocco spirituale a questa metropoli cosmopolita, che continua a incantare con la sua architettura maestosa e il suo stile di vita vibrante\n",
            "3: (0.5432475805282593) - Milano, capitale economica e della moda italiana, incanta con la sua vibrante energia urbana. Icone architettoniche come il Duomo e la moderna skyline si fondono con l'arte contemporanea e la vivace scena culinaria. Centro pulsante di innovazione e cultura, Milano è una città dinamica che unisce tradizione e modernità con eleganza e stile\n",
            "4: (0.4999144971370697) - I fantasmi, creature leggendarie che popolano l'immaginario collettivo, sono spesso associati al mistero e all'oltremondano. I fantasmi evocano sensazioni di timore e curiosità, alimentando paure in molte persone\n",
            "5: (0.36459872126579285) - Il rugby, sport di squadra nato nell'Inghilterra del XIX secolo, si distingue per la sua combinazione di forza, tattica e fair play. Caratterizzato dai placcaggi e dalla solidarietà di squadra, il rugby promuove valori di lealtà e rispetto, creando un'atmosfera unica di cameratismo sul campo di gioco\n",
            "6: (0.3026350736618042) - Il cellulare, ormai indispensabile nella vita moderna, è uno strumento versatile che va oltre la semplice comunicazione. Con funzionalità avanzate, come fotocamere di alta qualità, accesso a internet e applicazioni specializzate, il cellulare si è trasformato in un compagno quotidiano, rivoluzionando la nostra connessione con il mondo e le relazioni sociali\n",
            "7: (0.24719372391700745) - Vinavil è un adesivo vinilico multiuso noto per la sua versatilità e aderenza affidabile. Utilizzato comunemente in ambito scolastico e fai-da-te, Vinavil è apprezzato per la sua capacità di incollare diversi materiali, dalla carta al legno, offrendo una soluzione pratica e resistente per molteplici progetti\n",
            "8: (0.2378312051296234) - Il tofu, derivato dalla soia, è un versatile alimento ricco di proteine e povero di grassi. Apprezzato per la sua consistenza delicata, il tofu si presta a molteplici preparazioni culinarie, assumendo sapori diversi nelle varie cucine del mondo. La sua versatilità lo rende una scelta popolare per chi segue diete vegetariane e vegane\n",
            "9: (0.18358446657657623) - L'Intelligenza Artificiale (AI) rappresenta una frontiera rivoluzionaria nell'informatica, consentendo alle macchine di apprendere, ragionare e risolvere problemi complessi in modo simile all'intelligenza umana. Dalle applicazioni pratiche come assistenti virtuali e veicoli autonomi a scopi più avanzati come la diagnosi medica, l'AI continua a plasmare il futuro con innovazioni che sfidano i limiti delle capacità umane\n",
            "\n",
            "\n",
            "\n",
            "###  multi-qa-distilbert-cos-v1  #############################################################\n",
            "0: (0.6649178266525269) - Gli Uffizi, situati nel cuore di Firenze, costituiscono uno dei musei d'arte più celebri al mondo. La loro straordinaria collezione comprende capolavori di artisti come Botticelli, Michelangelo e Leonardo da Vinci, offrendo ai visitatori un viaggio affascinante attraverso la storia dell'arte rinascimentale italiana\n",
            "1: (0.5759270191192627) - La Pinacoteca di Brera, situata nel cuore di Milano, è una prestigiosa galleria d'arte che ospita una ricca collezione di opere italiane dal XIV al XX secolo. Celebrata per capolavori di artisti come Raphael, Caravaggio e Mantegna\n",
            "2: (0.4816519618034363) - Roma è il cuore pulsante della storia e della cultura italiana. Con oltre duemila anni di storia, la città vanta imponenti monumenti come il Colosseo e il Pantheon, testimonianze della grandezza dell'antica Roma. Il Vaticano, con la Basilica di San Pietro e la Cappella Sistina, aggiunge un tocco spirituale a questa metropoli cosmopolita, che continua a incantare con la sua architettura maestosa e il suo stile di vita vibrante\n",
            "3: (0.46333789825439453) - Milano, capitale economica e della moda italiana, incanta con la sua vibrante energia urbana. Icone architettoniche come il Duomo e la moderna skyline si fondono con l'arte contemporanea e la vivace scena culinaria. Centro pulsante di innovazione e cultura, Milano è una città dinamica che unisce tradizione e modernità con eleganza e stile\n",
            "4: (0.4158868193626404) - I fantasmi, creature leggendarie che popolano l'immaginario collettivo, sono spesso associati al mistero e all'oltremondano. I fantasmi evocano sensazioni di timore e curiosità, alimentando paure in molte persone\n",
            "5: (0.32509011030197144) - Il cellulare, ormai indispensabile nella vita moderna, è uno strumento versatile che va oltre la semplice comunicazione. Con funzionalità avanzate, come fotocamere di alta qualità, accesso a internet e applicazioni specializzate, il cellulare si è trasformato in un compagno quotidiano, rivoluzionando la nostra connessione con il mondo e le relazioni sociali\n",
            "6: (0.31717103719711304) - Il rugby, sport di squadra nato nell'Inghilterra del XIX secolo, si distingue per la sua combinazione di forza, tattica e fair play. Caratterizzato dai placcaggi e dalla solidarietà di squadra, il rugby promuove valori di lealtà e rispetto, creando un'atmosfera unica di cameratismo sul campo di gioco\n",
            "7: (0.28299039602279663) - Vinavil è un adesivo vinilico multiuso noto per la sua versatilità e aderenza affidabile. Utilizzato comunemente in ambito scolastico e fai-da-te, Vinavil è apprezzato per la sua capacità di incollare diversi materiali, dalla carta al legno, offrendo una soluzione pratica e resistente per molteplici progetti\n",
            "8: (0.26062119007110596) - L'Intelligenza Artificiale (AI) rappresenta una frontiera rivoluzionaria nell'informatica, consentendo alle macchine di apprendere, ragionare e risolvere problemi complessi in modo simile all'intelligenza umana. Dalle applicazioni pratiche come assistenti virtuali e veicoli autonomi a scopi più avanzati come la diagnosi medica, l'AI continua a plasmare il futuro con innovazioni che sfidano i limiti delle capacità umane\n",
            "9: (0.18072767555713654) - Il tofu, derivato dalla soia, è un versatile alimento ricco di proteine e povero di grassi. Apprezzato per la sua consistenza delicata, il tofu si presta a molteplici preparazioni culinarie, assumendo sapori diversi nelle varie cucine del mondo. La sua versatilità lo rende una scelta popolare per chi segue diete vegetariane e vegane\n",
            "\n",
            "\n",
            "\n",
            "###  all-MiniLM-L6-v2  #############################################################\n",
            "0: (0.7024345397949219) - Gli Uffizi, situati nel cuore di Firenze, costituiscono uno dei musei d'arte più celebri al mondo. La loro straordinaria collezione comprende capolavori di artisti come Botticelli, Michelangelo e Leonardo da Vinci, offrendo ai visitatori un viaggio affascinante attraverso la storia dell'arte rinascimentale italiana\n",
            "1: (0.5996754169464111) - La Pinacoteca di Brera, situata nel cuore di Milano, è una prestigiosa galleria d'arte che ospita una ricca collezione di opere italiane dal XIV al XX secolo. Celebrata per capolavori di artisti come Raphael, Caravaggio e Mantegna\n",
            "2: (0.5976728200912476) - Roma è il cuore pulsante della storia e della cultura italiana. Con oltre duemila anni di storia, la città vanta imponenti monumenti come il Colosseo e il Pantheon, testimonianze della grandezza dell'antica Roma. Il Vaticano, con la Basilica di San Pietro e la Cappella Sistina, aggiunge un tocco spirituale a questa metropoli cosmopolita, che continua a incantare con la sua architettura maestosa e il suo stile di vita vibrante\n",
            "3: (0.525119423866272) - Milano, capitale economica e della moda italiana, incanta con la sua vibrante energia urbana. Icone architettoniche come il Duomo e la moderna skyline si fondono con l'arte contemporanea e la vivace scena culinaria. Centro pulsante di innovazione e cultura, Milano è una città dinamica che unisce tradizione e modernità con eleganza e stile\n",
            "4: (0.44989722967147827) - I fantasmi, creature leggendarie che popolano l'immaginario collettivo, sono spesso associati al mistero e all'oltremondano. I fantasmi evocano sensazioni di timore e curiosità, alimentando paure in molte persone\n",
            "5: (0.4326082766056061) - Il rugby, sport di squadra nato nell'Inghilterra del XIX secolo, si distingue per la sua combinazione di forza, tattica e fair play. Caratterizzato dai placcaggi e dalla solidarietà di squadra, il rugby promuove valori di lealtà e rispetto, creando un'atmosfera unica di cameratismo sul campo di gioco\n",
            "6: (0.379186749458313) - Il cellulare, ormai indispensabile nella vita moderna, è uno strumento versatile che va oltre la semplice comunicazione. Con funzionalità avanzate, come fotocamere di alta qualità, accesso a internet e applicazioni specializzate, il cellulare si è trasformato in un compagno quotidiano, rivoluzionando la nostra connessione con il mondo e le relazioni sociali\n",
            "7: (0.3157062232494354) - L'Intelligenza Artificiale (AI) rappresenta una frontiera rivoluzionaria nell'informatica, consentendo alle macchine di apprendere, ragionare e risolvere problemi complessi in modo simile all'intelligenza umana. Dalle applicazioni pratiche come assistenti virtuali e veicoli autonomi a scopi più avanzati come la diagnosi medica, l'AI continua a plasmare il futuro con innovazioni che sfidano i limiti delle capacità umane\n",
            "8: (0.30156880617141724) - Vinavil è un adesivo vinilico multiuso noto per la sua versatilità e aderenza affidabile. Utilizzato comunemente in ambito scolastico e fai-da-te, Vinavil è apprezzato per la sua capacità di incollare diversi materiali, dalla carta al legno, offrendo una soluzione pratica e resistente per molteplici progetti\n",
            "9: (0.2595939040184021) - Il tofu, derivato dalla soia, è un versatile alimento ricco di proteine e povero di grassi. Apprezzato per la sua consistenza delicata, il tofu si presta a molteplici preparazioni culinarie, assumendo sapori diversi nelle varie cucine del mondo. La sua versatilità lo rende una scelta popolare per chi segue diete vegetariane e vegane\n",
            "\n",
            "\n",
            "\n"
          ]
        }
      ]
    },
    {
      "cell_type": "code",
      "source": [
        "query = \"Quale è un cibo che posso inserire nella mia dieta\""
      ],
      "metadata": {
        "id": "7WSdOrkNwcOb"
      },
      "execution_count": 60,
      "outputs": []
    },
    {
      "cell_type": "code",
      "source": [
        "# Per ogni modello analizziamo la classifica di documenti restituita, con di fianco lo score di similarità calcolato\n",
        "for m in ['all-mpnet-base-v2','multi-qa-mpnet-base-dot-v1','all-distilroberta-v1','all-MiniLM-L12-v2','multi-qa-distilbert-cos-v1','all-MiniLM-L6-v2']:\n",
        "  print(f\"###  {m}  #############################################################\")\n",
        "  get_best_documents(m, query, documents)\n",
        "  print(\"\\n\\n\")"
      ],
      "metadata": {
        "colab": {
          "base_uri": "https://localhost:8080/",
          "height": 0
        },
        "id": "XXysChVYwVzZ",
        "outputId": "968e5782-eb3b-489e-881c-b210500c5c2e"
      },
      "execution_count": 61,
      "outputs": [
        {
          "output_type": "stream",
          "name": "stdout",
          "text": [
            "###  all-mpnet-base-v2  #############################################################\n",
            "0: (0.48335760831832886) - Il tofu, derivato dalla soia, è un versatile alimento ricco di proteine e povero di grassi. Apprezzato per la sua consistenza delicata, il tofu si presta a molteplici preparazioni culinarie, assumendo sapori diversi nelle varie cucine del mondo. La sua versatilità lo rende una scelta popolare per chi segue diete vegetariane e vegane\n",
            "1: (0.45660293102264404) - Gli Uffizi, situati nel cuore di Firenze, costituiscono uno dei musei d'arte più celebri al mondo. La loro straordinaria collezione comprende capolavori di artisti come Botticelli, Michelangelo e Leonardo da Vinci, offrendo ai visitatori un viaggio affascinante attraverso la storia dell'arte rinascimentale italiana\n",
            "2: (0.42099618911743164) - Il cellulare, ormai indispensabile nella vita moderna, è uno strumento versatile che va oltre la semplice comunicazione. Con funzionalità avanzate, come fotocamere di alta qualità, accesso a internet e applicazioni specializzate, il cellulare si è trasformato in un compagno quotidiano, rivoluzionando la nostra connessione con il mondo e le relazioni sociali\n",
            "3: (0.40179723501205444) - Milano, capitale economica e della moda italiana, incanta con la sua vibrante energia urbana. Icone architettoniche come il Duomo e la moderna skyline si fondono con l'arte contemporanea e la vivace scena culinaria. Centro pulsante di innovazione e cultura, Milano è una città dinamica che unisce tradizione e modernità con eleganza e stile\n",
            "4: (0.40175849199295044) - Il rugby, sport di squadra nato nell'Inghilterra del XIX secolo, si distingue per la sua combinazione di forza, tattica e fair play. Caratterizzato dai placcaggi e dalla solidarietà di squadra, il rugby promuove valori di lealtà e rispetto, creando un'atmosfera unica di cameratismo sul campo di gioco\n",
            "5: (0.3912433981895447) - Roma è il cuore pulsante della storia e della cultura italiana. Con oltre duemila anni di storia, la città vanta imponenti monumenti come il Colosseo e il Pantheon, testimonianze della grandezza dell'antica Roma. Il Vaticano, con la Basilica di San Pietro e la Cappella Sistina, aggiunge un tocco spirituale a questa metropoli cosmopolita, che continua a incantare con la sua architettura maestosa e il suo stile di vita vibrante\n",
            "6: (0.3788456916809082) - I fantasmi, creature leggendarie che popolano l'immaginario collettivo, sono spesso associati al mistero e all'oltremondano. I fantasmi evocano sensazioni di timore e curiosità, alimentando paure in molte persone\n",
            "7: (0.36687809228897095) - La Pinacoteca di Brera, situata nel cuore di Milano, è una prestigiosa galleria d'arte che ospita una ricca collezione di opere italiane dal XIV al XX secolo. Celebrata per capolavori di artisti come Raphael, Caravaggio e Mantegna\n",
            "8: (0.3439732789993286) - Vinavil è un adesivo vinilico multiuso noto per la sua versatilità e aderenza affidabile. Utilizzato comunemente in ambito scolastico e fai-da-te, Vinavil è apprezzato per la sua capacità di incollare diversi materiali, dalla carta al legno, offrendo una soluzione pratica e resistente per molteplici progetti\n",
            "9: (0.15808743238449097) - L'Intelligenza Artificiale (AI) rappresenta una frontiera rivoluzionaria nell'informatica, consentendo alle macchine di apprendere, ragionare e risolvere problemi complessi in modo simile all'intelligenza umana. Dalle applicazioni pratiche come assistenti virtuali e veicoli autonomi a scopi più avanzati come la diagnosi medica, l'AI continua a plasmare il futuro con innovazioni che sfidano i limiti delle capacità umane\n",
            "\n",
            "\n",
            "\n",
            "###  multi-qa-mpnet-base-dot-v1  #############################################################\n",
            "0: (17.25102424621582) - Il cellulare, ormai indispensabile nella vita moderna, è uno strumento versatile che va oltre la semplice comunicazione. Con funzionalità avanzate, come fotocamere di alta qualità, accesso a internet e applicazioni specializzate, il cellulare si è trasformato in un compagno quotidiano, rivoluzionando la nostra connessione con il mondo e le relazioni sociali\n",
            "1: (17.166431427001953) - Gli Uffizi, situati nel cuore di Firenze, costituiscono uno dei musei d'arte più celebri al mondo. La loro straordinaria collezione comprende capolavori di artisti come Botticelli, Michelangelo e Leonardo da Vinci, offrendo ai visitatori un viaggio affascinante attraverso la storia dell'arte rinascimentale italiana\n",
            "2: (16.84805679321289) - Il tofu, derivato dalla soia, è un versatile alimento ricco di proteine e povero di grassi. Apprezzato per la sua consistenza delicata, il tofu si presta a molteplici preparazioni culinarie, assumendo sapori diversi nelle varie cucine del mondo. La sua versatilità lo rende una scelta popolare per chi segue diete vegetariane e vegane\n",
            "3: (16.364009857177734) - Roma è il cuore pulsante della storia e della cultura italiana. Con oltre duemila anni di storia, la città vanta imponenti monumenti come il Colosseo e il Pantheon, testimonianze della grandezza dell'antica Roma. Il Vaticano, con la Basilica di San Pietro e la Cappella Sistina, aggiunge un tocco spirituale a questa metropoli cosmopolita, che continua a incantare con la sua architettura maestosa e il suo stile di vita vibrante\n",
            "4: (15.136836051940918) - Il rugby, sport di squadra nato nell'Inghilterra del XIX secolo, si distingue per la sua combinazione di forza, tattica e fair play. Caratterizzato dai placcaggi e dalla solidarietà di squadra, il rugby promuove valori di lealtà e rispetto, creando un'atmosfera unica di cameratismo sul campo di gioco\n",
            "5: (14.644248008728027) - Milano, capitale economica e della moda italiana, incanta con la sua vibrante energia urbana. Icone architettoniche come il Duomo e la moderna skyline si fondono con l'arte contemporanea e la vivace scena culinaria. Centro pulsante di innovazione e cultura, Milano è una città dinamica che unisce tradizione e modernità con eleganza e stile\n",
            "6: (14.401264190673828) - I fantasmi, creature leggendarie che popolano l'immaginario collettivo, sono spesso associati al mistero e all'oltremondano. I fantasmi evocano sensazioni di timore e curiosità, alimentando paure in molte persone\n",
            "7: (14.349864959716797) - La Pinacoteca di Brera, situata nel cuore di Milano, è una prestigiosa galleria d'arte che ospita una ricca collezione di opere italiane dal XIV al XX secolo. Celebrata per capolavori di artisti come Raphael, Caravaggio e Mantegna\n",
            "8: (10.970075607299805) - L'Intelligenza Artificiale (AI) rappresenta una frontiera rivoluzionaria nell'informatica, consentendo alle macchine di apprendere, ragionare e risolvere problemi complessi in modo simile all'intelligenza umana. Dalle applicazioni pratiche come assistenti virtuali e veicoli autonomi a scopi più avanzati come la diagnosi medica, l'AI continua a plasmare il futuro con innovazioni che sfidano i limiti delle capacità umane\n",
            "9: (10.743695259094238) - Vinavil è un adesivo vinilico multiuso noto per la sua versatilità e aderenza affidabile. Utilizzato comunemente in ambito scolastico e fai-da-te, Vinavil è apprezzato per la sua capacità di incollare diversi materiali, dalla carta al legno, offrendo una soluzione pratica e resistente per molteplici progetti\n",
            "\n",
            "\n",
            "\n",
            "###  all-distilroberta-v1  #############################################################\n",
            "0: (0.5705705881118774) - Il tofu, derivato dalla soia, è un versatile alimento ricco di proteine e povero di grassi. Apprezzato per la sua consistenza delicata, il tofu si presta a molteplici preparazioni culinarie, assumendo sapori diversi nelle varie cucine del mondo. La sua versatilità lo rende una scelta popolare per chi segue diete vegetariane e vegane\n",
            "1: (0.4749448895454407) - Il cellulare, ormai indispensabile nella vita moderna, è uno strumento versatile che va oltre la semplice comunicazione. Con funzionalità avanzate, come fotocamere di alta qualità, accesso a internet e applicazioni specializzate, il cellulare si è trasformato in un compagno quotidiano, rivoluzionando la nostra connessione con il mondo e le relazioni sociali\n",
            "2: (0.4711058735847473) - Il rugby, sport di squadra nato nell'Inghilterra del XIX secolo, si distingue per la sua combinazione di forza, tattica e fair play. Caratterizzato dai placcaggi e dalla solidarietà di squadra, il rugby promuove valori di lealtà e rispetto, creando un'atmosfera unica di cameratismo sul campo di gioco\n",
            "3: (0.46945124864578247) - I fantasmi, creature leggendarie che popolano l'immaginario collettivo, sono spesso associati al mistero e all'oltremondano. I fantasmi evocano sensazioni di timore e curiosità, alimentando paure in molte persone\n",
            "4: (0.44599980115890503) - La Pinacoteca di Brera, situata nel cuore di Milano, è una prestigiosa galleria d'arte che ospita una ricca collezione di opere italiane dal XIV al XX secolo. Celebrata per capolavori di artisti come Raphael, Caravaggio e Mantegna\n",
            "5: (0.4309774339199066) - Milano, capitale economica e della moda italiana, incanta con la sua vibrante energia urbana. Icone architettoniche come il Duomo e la moderna skyline si fondono con l'arte contemporanea e la vivace scena culinaria. Centro pulsante di innovazione e cultura, Milano è una città dinamica che unisce tradizione e modernità con eleganza e stile\n",
            "6: (0.427402138710022) - Vinavil è un adesivo vinilico multiuso noto per la sua versatilità e aderenza affidabile. Utilizzato comunemente in ambito scolastico e fai-da-te, Vinavil è apprezzato per la sua capacità di incollare diversi materiali, dalla carta al legno, offrendo una soluzione pratica e resistente per molteplici progetti\n",
            "7: (0.40877580642700195) - Roma è il cuore pulsante della storia e della cultura italiana. Con oltre duemila anni di storia, la città vanta imponenti monumenti come il Colosseo e il Pantheon, testimonianze della grandezza dell'antica Roma. Il Vaticano, con la Basilica di San Pietro e la Cappella Sistina, aggiunge un tocco spirituale a questa metropoli cosmopolita, che continua a incantare con la sua architettura maestosa e il suo stile di vita vibrante\n",
            "8: (0.4072941541671753) - Gli Uffizi, situati nel cuore di Firenze, costituiscono uno dei musei d'arte più celebri al mondo. La loro straordinaria collezione comprende capolavori di artisti come Botticelli, Michelangelo e Leonardo da Vinci, offrendo ai visitatori un viaggio affascinante attraverso la storia dell'arte rinascimentale italiana\n",
            "9: (0.30298593640327454) - L'Intelligenza Artificiale (AI) rappresenta una frontiera rivoluzionaria nell'informatica, consentendo alle macchine di apprendere, ragionare e risolvere problemi complessi in modo simile all'intelligenza umana. Dalle applicazioni pratiche come assistenti virtuali e veicoli autonomi a scopi più avanzati come la diagnosi medica, l'AI continua a plasmare il futuro con innovazioni che sfidano i limiti delle capacità umane\n",
            "\n",
            "\n",
            "\n",
            "###  all-MiniLM-L12-v2  #############################################################\n",
            "0: (0.48475781083106995) - I fantasmi, creature leggendarie che popolano l'immaginario collettivo, sono spesso associati al mistero e all'oltremondano. I fantasmi evocano sensazioni di timore e curiosità, alimentando paure in molte persone\n",
            "1: (0.42860350012779236) - Roma è il cuore pulsante della storia e della cultura italiana. Con oltre duemila anni di storia, la città vanta imponenti monumenti come il Colosseo e il Pantheon, testimonianze della grandezza dell'antica Roma. Il Vaticano, con la Basilica di San Pietro e la Cappella Sistina, aggiunge un tocco spirituale a questa metropoli cosmopolita, che continua a incantare con la sua architettura maestosa e il suo stile di vita vibrante\n",
            "2: (0.4150528907775879) - Il tofu, derivato dalla soia, è un versatile alimento ricco di proteine e povero di grassi. Apprezzato per la sua consistenza delicata, il tofu si presta a molteplici preparazioni culinarie, assumendo sapori diversi nelle varie cucine del mondo. La sua versatilità lo rende una scelta popolare per chi segue diete vegetariane e vegane\n",
            "3: (0.3974428176879883) - La Pinacoteca di Brera, situata nel cuore di Milano, è una prestigiosa galleria d'arte che ospita una ricca collezione di opere italiane dal XIV al XX secolo. Celebrata per capolavori di artisti come Raphael, Caravaggio e Mantegna\n",
            "4: (0.3836374282836914) - Gli Uffizi, situati nel cuore di Firenze, costituiscono uno dei musei d'arte più celebri al mondo. La loro straordinaria collezione comprende capolavori di artisti come Botticelli, Michelangelo e Leonardo da Vinci, offrendo ai visitatori un viaggio affascinante attraverso la storia dell'arte rinascimentale italiana\n",
            "5: (0.3449896574020386) - Milano, capitale economica e della moda italiana, incanta con la sua vibrante energia urbana. Icone architettoniche come il Duomo e la moderna skyline si fondono con l'arte contemporanea e la vivace scena culinaria. Centro pulsante di innovazione e cultura, Milano è una città dinamica che unisce tradizione e modernità con eleganza e stile\n",
            "6: (0.34111568331718445) - Il rugby, sport di squadra nato nell'Inghilterra del XIX secolo, si distingue per la sua combinazione di forza, tattica e fair play. Caratterizzato dai placcaggi e dalla solidarietà di squadra, il rugby promuove valori di lealtà e rispetto, creando un'atmosfera unica di cameratismo sul campo di gioco\n",
            "7: (0.2875848412513733) - Il cellulare, ormai indispensabile nella vita moderna, è uno strumento versatile che va oltre la semplice comunicazione. Con funzionalità avanzate, come fotocamere di alta qualità, accesso a internet e applicazioni specializzate, il cellulare si è trasformato in un compagno quotidiano, rivoluzionando la nostra connessione con il mondo e le relazioni sociali\n",
            "8: (0.19814839959144592) - Vinavil è un adesivo vinilico multiuso noto per la sua versatilità e aderenza affidabile. Utilizzato comunemente in ambito scolastico e fai-da-te, Vinavil è apprezzato per la sua capacità di incollare diversi materiali, dalla carta al legno, offrendo una soluzione pratica e resistente per molteplici progetti\n",
            "9: (0.16256263852119446) - L'Intelligenza Artificiale (AI) rappresenta una frontiera rivoluzionaria nell'informatica, consentendo alle macchine di apprendere, ragionare e risolvere problemi complessi in modo simile all'intelligenza umana. Dalle applicazioni pratiche come assistenti virtuali e veicoli autonomi a scopi più avanzati come la diagnosi medica, l'AI continua a plasmare il futuro con innovazioni che sfidano i limiti delle capacità umane\n",
            "\n",
            "\n",
            "\n",
            "###  multi-qa-distilbert-cos-v1  #############################################################\n",
            "0: (0.4447265565395355) - I fantasmi, creature leggendarie che popolano l'immaginario collettivo, sono spesso associati al mistero e all'oltremondano. I fantasmi evocano sensazioni di timore e curiosità, alimentando paure in molte persone\n",
            "1: (0.3896826207637787) - Il tofu, derivato dalla soia, è un versatile alimento ricco di proteine e povero di grassi. Apprezzato per la sua consistenza delicata, il tofu si presta a molteplici preparazioni culinarie, assumendo sapori diversi nelle varie cucine del mondo. La sua versatilità lo rende una scelta popolare per chi segue diete vegetariane e vegane\n",
            "2: (0.3519328236579895) - Il cellulare, ormai indispensabile nella vita moderna, è uno strumento versatile che va oltre la semplice comunicazione. Con funzionalità avanzate, come fotocamere di alta qualità, accesso a internet e applicazioni specializzate, il cellulare si è trasformato in un compagno quotidiano, rivoluzionando la nostra connessione con il mondo e le relazioni sociali\n",
            "3: (0.3343271017074585) - Vinavil è un adesivo vinilico multiuso noto per la sua versatilità e aderenza affidabile. Utilizzato comunemente in ambito scolastico e fai-da-te, Vinavil è apprezzato per la sua capacità di incollare diversi materiali, dalla carta al legno, offrendo una soluzione pratica e resistente per molteplici progetti\n",
            "4: (0.32735010981559753) - Gli Uffizi, situati nel cuore di Firenze, costituiscono uno dei musei d'arte più celebri al mondo. La loro straordinaria collezione comprende capolavori di artisti come Botticelli, Michelangelo e Leonardo da Vinci, offrendo ai visitatori un viaggio affascinante attraverso la storia dell'arte rinascimentale italiana\n",
            "5: (0.3163524270057678) - Roma è il cuore pulsante della storia e della cultura italiana. Con oltre duemila anni di storia, la città vanta imponenti monumenti come il Colosseo e il Pantheon, testimonianze della grandezza dell'antica Roma. Il Vaticano, con la Basilica di San Pietro e la Cappella Sistina, aggiunge un tocco spirituale a questa metropoli cosmopolita, che continua a incantare con la sua architettura maestosa e il suo stile di vita vibrante\n",
            "6: (0.31306135654449463) - L'Intelligenza Artificiale (AI) rappresenta una frontiera rivoluzionaria nell'informatica, consentendo alle macchine di apprendere, ragionare e risolvere problemi complessi in modo simile all'intelligenza umana. Dalle applicazioni pratiche come assistenti virtuali e veicoli autonomi a scopi più avanzati come la diagnosi medica, l'AI continua a plasmare il futuro con innovazioni che sfidano i limiti delle capacità umane\n",
            "7: (0.3007130026817322) - Milano, capitale economica e della moda italiana, incanta con la sua vibrante energia urbana. Icone architettoniche come il Duomo e la moderna skyline si fondono con l'arte contemporanea e la vivace scena culinaria. Centro pulsante di innovazione e cultura, Milano è una città dinamica che unisce tradizione e modernità con eleganza e stile\n",
            "8: (0.27701646089553833) - La Pinacoteca di Brera, situata nel cuore di Milano, è una prestigiosa galleria d'arte che ospita una ricca collezione di opere italiane dal XIV al XX secolo. Celebrata per capolavori di artisti come Raphael, Caravaggio e Mantegna\n",
            "9: (0.26063162088394165) - Il rugby, sport di squadra nato nell'Inghilterra del XIX secolo, si distingue per la sua combinazione di forza, tattica e fair play. Caratterizzato dai placcaggi e dalla solidarietà di squadra, il rugby promuove valori di lealtà e rispetto, creando un'atmosfera unica di cameratismo sul campo di gioco\n",
            "\n",
            "\n",
            "\n",
            "###  all-MiniLM-L6-v2  #############################################################\n",
            "0: (0.5406607389450073) - I fantasmi, creature leggendarie che popolano l'immaginario collettivo, sono spesso associati al mistero e all'oltremondano. I fantasmi evocano sensazioni di timore e curiosità, alimentando paure in molte persone\n",
            "1: (0.4975626468658447) - Roma è il cuore pulsante della storia e della cultura italiana. Con oltre duemila anni di storia, la città vanta imponenti monumenti come il Colosseo e il Pantheon, testimonianze della grandezza dell'antica Roma. Il Vaticano, con la Basilica di San Pietro e la Cappella Sistina, aggiunge un tocco spirituale a questa metropoli cosmopolita, che continua a incantare con la sua architettura maestosa e il suo stile di vita vibrante\n",
            "2: (0.466209352016449) - Il rugby, sport di squadra nato nell'Inghilterra del XIX secolo, si distingue per la sua combinazione di forza, tattica e fair play. Caratterizzato dai placcaggi e dalla solidarietà di squadra, il rugby promuove valori di lealtà e rispetto, creando un'atmosfera unica di cameratismo sul campo di gioco\n",
            "3: (0.4378179907798767) - Gli Uffizi, situati nel cuore di Firenze, costituiscono uno dei musei d'arte più celebri al mondo. La loro straordinaria collezione comprende capolavori di artisti come Botticelli, Michelangelo e Leonardo da Vinci, offrendo ai visitatori un viaggio affascinante attraverso la storia dell'arte rinascimentale italiana\n",
            "4: (0.42601722478866577) - L'Intelligenza Artificiale (AI) rappresenta una frontiera rivoluzionaria nell'informatica, consentendo alle macchine di apprendere, ragionare e risolvere problemi complessi in modo simile all'intelligenza umana. Dalle applicazioni pratiche come assistenti virtuali e veicoli autonomi a scopi più avanzati come la diagnosi medica, l'AI continua a plasmare il futuro con innovazioni che sfidano i limiti delle capacità umane\n",
            "5: (0.4200001358985901) - La Pinacoteca di Brera, situata nel cuore di Milano, è una prestigiosa galleria d'arte che ospita una ricca collezione di opere italiane dal XIV al XX secolo. Celebrata per capolavori di artisti come Raphael, Caravaggio e Mantegna\n",
            "6: (0.38656511902809143) - Milano, capitale economica e della moda italiana, incanta con la sua vibrante energia urbana. Icone architettoniche come il Duomo e la moderna skyline si fondono con l'arte contemporanea e la vivace scena culinaria. Centro pulsante di innovazione e cultura, Milano è una città dinamica che unisce tradizione e modernità con eleganza e stile\n",
            "7: (0.3711741268634796) - Il tofu, derivato dalla soia, è un versatile alimento ricco di proteine e povero di grassi. Apprezzato per la sua consistenza delicata, il tofu si presta a molteplici preparazioni culinarie, assumendo sapori diversi nelle varie cucine del mondo. La sua versatilità lo rende una scelta popolare per chi segue diete vegetariane e vegane\n",
            "8: (0.3689822852611542) - Il cellulare, ormai indispensabile nella vita moderna, è uno strumento versatile che va oltre la semplice comunicazione. Con funzionalità avanzate, come fotocamere di alta qualità, accesso a internet e applicazioni specializzate, il cellulare si è trasformato in un compagno quotidiano, rivoluzionando la nostra connessione con il mondo e le relazioni sociali\n",
            "9: (0.3509373664855957) - Vinavil è un adesivo vinilico multiuso noto per la sua versatilità e aderenza affidabile. Utilizzato comunemente in ambito scolastico e fai-da-te, Vinavil è apprezzato per la sua capacità di incollare diversi materiali, dalla carta al legno, offrendo una soluzione pratica e resistente per molteplici progetti\n",
            "\n",
            "\n",
            "\n"
          ]
        }
      ]
    },
    {
      "cell_type": "code",
      "source": [
        "query = \"Sto cercando una atività fisica di squadra da fare nel tempo libero\""
      ],
      "metadata": {
        "id": "MyW5B8xmxnRF"
      },
      "execution_count": 64,
      "outputs": []
    },
    {
      "cell_type": "code",
      "source": [
        "# Per ogni modello analizziamo la classifica di documenti restituita, con di fianco lo score di similarità calcolato\n",
        "for m in ['all-mpnet-base-v2','multi-qa-mpnet-base-dot-v1','all-distilroberta-v1','all-MiniLM-L12-v2','multi-qa-distilbert-cos-v1','all-MiniLM-L6-v2']:\n",
        "  print(f\"###  {m}  #############################################################\")\n",
        "  get_best_documents(m, query, documents)\n",
        "  print(\"\\n\\n\")"
      ],
      "metadata": {
        "colab": {
          "base_uri": "https://localhost:8080/",
          "height": 0
        },
        "id": "CQaofxRlxlr-",
        "outputId": "1da8879a-4128-4b5c-a6c2-f86ba32c486f"
      },
      "execution_count": 65,
      "outputs": [
        {
          "output_type": "stream",
          "name": "stdout",
          "text": [
            "###  all-mpnet-base-v2  #############################################################\n",
            "0: (0.5891743302345276) - Il rugby, sport di squadra nato nell'Inghilterra del XIX secolo, si distingue per la sua combinazione di forza, tattica e fair play. Caratterizzato dai placcaggi e dalla solidarietà di squadra, il rugby promuove valori di lealtà e rispetto, creando un'atmosfera unica di cameratismo sul campo di gioco\n",
            "1: (0.49108195304870605) - Gli Uffizi, situati nel cuore di Firenze, costituiscono uno dei musei d'arte più celebri al mondo. La loro straordinaria collezione comprende capolavori di artisti come Botticelli, Michelangelo e Leonardo da Vinci, offrendo ai visitatori un viaggio affascinante attraverso la storia dell'arte rinascimentale italiana\n",
            "2: (0.4676651060581207) - Milano, capitale economica e della moda italiana, incanta con la sua vibrante energia urbana. Icone architettoniche come il Duomo e la moderna skyline si fondono con l'arte contemporanea e la vivace scena culinaria. Centro pulsante di innovazione e cultura, Milano è una città dinamica che unisce tradizione e modernità con eleganza e stile\n",
            "3: (0.4299554228782654) - Roma è il cuore pulsante della storia e della cultura italiana. Con oltre duemila anni di storia, la città vanta imponenti monumenti come il Colosseo e il Pantheon, testimonianze della grandezza dell'antica Roma. Il Vaticano, con la Basilica di San Pietro e la Cappella Sistina, aggiunge un tocco spirituale a questa metropoli cosmopolita, che continua a incantare con la sua architettura maestosa e il suo stile di vita vibrante\n",
            "4: (0.4226401448249817) - La Pinacoteca di Brera, situata nel cuore di Milano, è una prestigiosa galleria d'arte che ospita una ricca collezione di opere italiane dal XIV al XX secolo. Celebrata per capolavori di artisti come Raphael, Caravaggio e Mantegna\n",
            "5: (0.39356642961502075) - Il cellulare, ormai indispensabile nella vita moderna, è uno strumento versatile che va oltre la semplice comunicazione. Con funzionalità avanzate, come fotocamere di alta qualità, accesso a internet e applicazioni specializzate, il cellulare si è trasformato in un compagno quotidiano, rivoluzionando la nostra connessione con il mondo e le relazioni sociali\n",
            "6: (0.3748962879180908) - I fantasmi, creature leggendarie che popolano l'immaginario collettivo, sono spesso associati al mistero e all'oltremondano. I fantasmi evocano sensazioni di timore e curiosità, alimentando paure in molte persone\n",
            "7: (0.3483213782310486) - Vinavil è un adesivo vinilico multiuso noto per la sua versatilità e aderenza affidabile. Utilizzato comunemente in ambito scolastico e fai-da-te, Vinavil è apprezzato per la sua capacità di incollare diversi materiali, dalla carta al legno, offrendo una soluzione pratica e resistente per molteplici progetti\n",
            "8: (0.3008716106414795) - Il tofu, derivato dalla soia, è un versatile alimento ricco di proteine e povero di grassi. Apprezzato per la sua consistenza delicata, il tofu si presta a molteplici preparazioni culinarie, assumendo sapori diversi nelle varie cucine del mondo. La sua versatilità lo rende una scelta popolare per chi segue diete vegetariane e vegane\n",
            "9: (0.22818872332572937) - L'Intelligenza Artificiale (AI) rappresenta una frontiera rivoluzionaria nell'informatica, consentendo alle macchine di apprendere, ragionare e risolvere problemi complessi in modo simile all'intelligenza umana. Dalle applicazioni pratiche come assistenti virtuali e veicoli autonomi a scopi più avanzati come la diagnosi medica, l'AI continua a plasmare il futuro con innovazioni che sfidano i limiti delle capacità umane\n",
            "\n",
            "\n",
            "\n",
            "###  multi-qa-mpnet-base-dot-v1  #############################################################\n",
            "0: (23.141769409179688) - Il rugby, sport di squadra nato nell'Inghilterra del XIX secolo, si distingue per la sua combinazione di forza, tattica e fair play. Caratterizzato dai placcaggi e dalla solidarietà di squadra, il rugby promuove valori di lealtà e rispetto, creando un'atmosfera unica di cameratismo sul campo di gioco\n",
            "1: (18.711624145507812) - Gli Uffizi, situati nel cuore di Firenze, costituiscono uno dei musei d'arte più celebri al mondo. La loro straordinaria collezione comprende capolavori di artisti come Botticelli, Michelangelo e Leonardo da Vinci, offrendo ai visitatori un viaggio affascinante attraverso la storia dell'arte rinascimentale italiana\n",
            "2: (16.565732955932617) - Milano, capitale economica e della moda italiana, incanta con la sua vibrante energia urbana. Icone architettoniche come il Duomo e la moderna skyline si fondono con l'arte contemporanea e la vivace scena culinaria. Centro pulsante di innovazione e cultura, Milano è una città dinamica che unisce tradizione e modernità con eleganza e stile\n",
            "3: (16.055185317993164) - Roma è il cuore pulsante della storia e della cultura italiana. Con oltre duemila anni di storia, la città vanta imponenti monumenti come il Colosseo e il Pantheon, testimonianze della grandezza dell'antica Roma. Il Vaticano, con la Basilica di San Pietro e la Cappella Sistina, aggiunge un tocco spirituale a questa metropoli cosmopolita, che continua a incantare con la sua architettura maestosa e il suo stile di vita vibrante\n",
            "4: (15.960151672363281) - Il cellulare, ormai indispensabile nella vita moderna, è uno strumento versatile che va oltre la semplice comunicazione. Con funzionalità avanzate, come fotocamere di alta qualità, accesso a internet e applicazioni specializzate, il cellulare si è trasformato in un compagno quotidiano, rivoluzionando la nostra connessione con il mondo e le relazioni sociali\n",
            "5: (15.760108947753906) - La Pinacoteca di Brera, situata nel cuore di Milano, è una prestigiosa galleria d'arte che ospita una ricca collezione di opere italiane dal XIV al XX secolo. Celebrata per capolavori di artisti come Raphael, Caravaggio e Mantegna\n",
            "6: (15.441004753112793) - I fantasmi, creature leggendarie che popolano l'immaginario collettivo, sono spesso associati al mistero e all'oltremondano. I fantasmi evocano sensazioni di timore e curiosità, alimentando paure in molte persone\n",
            "7: (14.71412467956543) - Vinavil è un adesivo vinilico multiuso noto per la sua versatilità e aderenza affidabile. Utilizzato comunemente in ambito scolastico e fai-da-te, Vinavil è apprezzato per la sua capacità di incollare diversi materiali, dalla carta al legno, offrendo una soluzione pratica e resistente per molteplici progetti\n",
            "8: (14.246647834777832) - L'Intelligenza Artificiale (AI) rappresenta una frontiera rivoluzionaria nell'informatica, consentendo alle macchine di apprendere, ragionare e risolvere problemi complessi in modo simile all'intelligenza umana. Dalle applicazioni pratiche come assistenti virtuali e veicoli autonomi a scopi più avanzati come la diagnosi medica, l'AI continua a plasmare il futuro con innovazioni che sfidano i limiti delle capacità umane\n",
            "9: (12.570489883422852) - Il tofu, derivato dalla soia, è un versatile alimento ricco di proteine e povero di grassi. Apprezzato per la sua consistenza delicata, il tofu si presta a molteplici preparazioni culinarie, assumendo sapori diversi nelle varie cucine del mondo. La sua versatilità lo rende una scelta popolare per chi segue diete vegetariane e vegane\n",
            "\n",
            "\n",
            "\n",
            "###  all-distilroberta-v1  #############################################################\n",
            "0: (0.6422997713088989) - Il rugby, sport di squadra nato nell'Inghilterra del XIX secolo, si distingue per la sua combinazione di forza, tattica e fair play. Caratterizzato dai placcaggi e dalla solidarietà di squadra, il rugby promuove valori di lealtà e rispetto, creando un'atmosfera unica di cameratismo sul campo di gioco\n",
            "1: (0.47240710258483887) - I fantasmi, creature leggendarie che popolano l'immaginario collettivo, sono spesso associati al mistero e all'oltremondano. I fantasmi evocano sensazioni di timore e curiosità, alimentando paure in molte persone\n",
            "2: (0.46673205494880676) - Milano, capitale economica e della moda italiana, incanta con la sua vibrante energia urbana. Icone architettoniche come il Duomo e la moderna skyline si fondono con l'arte contemporanea e la vivace scena culinaria. Centro pulsante di innovazione e cultura, Milano è una città dinamica che unisce tradizione e modernità con eleganza e stile\n",
            "3: (0.45912274718284607) - Gli Uffizi, situati nel cuore di Firenze, costituiscono uno dei musei d'arte più celebri al mondo. La loro straordinaria collezione comprende capolavori di artisti come Botticelli, Michelangelo e Leonardo da Vinci, offrendo ai visitatori un viaggio affascinante attraverso la storia dell'arte rinascimentale italiana\n",
            "4: (0.4577626585960388) - Roma è il cuore pulsante della storia e della cultura italiana. Con oltre duemila anni di storia, la città vanta imponenti monumenti come il Colosseo e il Pantheon, testimonianze della grandezza dell'antica Roma. Il Vaticano, con la Basilica di San Pietro e la Cappella Sistina, aggiunge un tocco spirituale a questa metropoli cosmopolita, che continua a incantare con la sua architettura maestosa e il suo stile di vita vibrante\n",
            "5: (0.42880934476852417) - Il tofu, derivato dalla soia, è un versatile alimento ricco di proteine e povero di grassi. Apprezzato per la sua consistenza delicata, il tofu si presta a molteplici preparazioni culinarie, assumendo sapori diversi nelle varie cucine del mondo. La sua versatilità lo rende una scelta popolare per chi segue diete vegetariane e vegane\n",
            "6: (0.4223273992538452) - La Pinacoteca di Brera, situata nel cuore di Milano, è una prestigiosa galleria d'arte che ospita una ricca collezione di opere italiane dal XIV al XX secolo. Celebrata per capolavori di artisti come Raphael, Caravaggio e Mantegna\n",
            "7: (0.4047924280166626) - Vinavil è un adesivo vinilico multiuso noto per la sua versatilità e aderenza affidabile. Utilizzato comunemente in ambito scolastico e fai-da-te, Vinavil è apprezzato per la sua capacità di incollare diversi materiali, dalla carta al legno, offrendo una soluzione pratica e resistente per molteplici progetti\n",
            "8: (0.4005122184753418) - Il cellulare, ormai indispensabile nella vita moderna, è uno strumento versatile che va oltre la semplice comunicazione. Con funzionalità avanzate, come fotocamere di alta qualità, accesso a internet e applicazioni specializzate, il cellulare si è trasformato in un compagno quotidiano, rivoluzionando la nostra connessione con il mondo e le relazioni sociali\n",
            "9: (0.32636189460754395) - L'Intelligenza Artificiale (AI) rappresenta una frontiera rivoluzionaria nell'informatica, consentendo alle macchine di apprendere, ragionare e risolvere problemi complessi in modo simile all'intelligenza umana. Dalle applicazioni pratiche come assistenti virtuali e veicoli autonomi a scopi più avanzati come la diagnosi medica, l'AI continua a plasmare il futuro con innovazioni che sfidano i limiti delle capacità umane\n",
            "\n",
            "\n",
            "\n",
            "###  all-MiniLM-L12-v2  #############################################################\n",
            "0: (0.4787830114364624) - Il rugby, sport di squadra nato nell'Inghilterra del XIX secolo, si distingue per la sua combinazione di forza, tattica e fair play. Caratterizzato dai placcaggi e dalla solidarietà di squadra, il rugby promuove valori di lealtà e rispetto, creando un'atmosfera unica di cameratismo sul campo di gioco\n",
            "1: (0.3801308274269104) - I fantasmi, creature leggendarie che popolano l'immaginario collettivo, sono spesso associati al mistero e all'oltremondano. I fantasmi evocano sensazioni di timore e curiosità, alimentando paure in molte persone\n",
            "2: (0.35587960481643677) - Roma è il cuore pulsante della storia e della cultura italiana. Con oltre duemila anni di storia, la città vanta imponenti monumenti come il Colosseo e il Pantheon, testimonianze della grandezza dell'antica Roma. Il Vaticano, con la Basilica di San Pietro e la Cappella Sistina, aggiunge un tocco spirituale a questa metropoli cosmopolita, che continua a incantare con la sua architettura maestosa e il suo stile di vita vibrante\n",
            "3: (0.3451131582260132) - Gli Uffizi, situati nel cuore di Firenze, costituiscono uno dei musei d'arte più celebri al mondo. La loro straordinaria collezione comprende capolavori di artisti come Botticelli, Michelangelo e Leonardo da Vinci, offrendo ai visitatori un viaggio affascinante attraverso la storia dell'arte rinascimentale italiana\n",
            "4: (0.3254931569099426) - La Pinacoteca di Brera, situata nel cuore di Milano, è una prestigiosa galleria d'arte che ospita una ricca collezione di opere italiane dal XIV al XX secolo. Celebrata per capolavori di artisti come Raphael, Caravaggio e Mantegna\n",
            "5: (0.31819435954093933) - Il tofu, derivato dalla soia, è un versatile alimento ricco di proteine e povero di grassi. Apprezzato per la sua consistenza delicata, il tofu si presta a molteplici preparazioni culinarie, assumendo sapori diversi nelle varie cucine del mondo. La sua versatilità lo rende una scelta popolare per chi segue diete vegetariane e vegane\n",
            "6: (0.2986132502555847) - Il cellulare, ormai indispensabile nella vita moderna, è uno strumento versatile che va oltre la semplice comunicazione. Con funzionalità avanzate, come fotocamere di alta qualità, accesso a internet e applicazioni specializzate, il cellulare si è trasformato in un compagno quotidiano, rivoluzionando la nostra connessione con il mondo e le relazioni sociali\n",
            "7: (0.2602871060371399) - Milano, capitale economica e della moda italiana, incanta con la sua vibrante energia urbana. Icone architettoniche come il Duomo e la moderna skyline si fondono con l'arte contemporanea e la vivace scena culinaria. Centro pulsante di innovazione e cultura, Milano è una città dinamica che unisce tradizione e modernità con eleganza e stile\n",
            "8: (0.19577622413635254) - Vinavil è un adesivo vinilico multiuso noto per la sua versatilità e aderenza affidabile. Utilizzato comunemente in ambito scolastico e fai-da-te, Vinavil è apprezzato per la sua capacità di incollare diversi materiali, dalla carta al legno, offrendo una soluzione pratica e resistente per molteplici progetti\n",
            "9: (0.14623911678791046) - L'Intelligenza Artificiale (AI) rappresenta una frontiera rivoluzionaria nell'informatica, consentendo alle macchine di apprendere, ragionare e risolvere problemi complessi in modo simile all'intelligenza umana. Dalle applicazioni pratiche come assistenti virtuali e veicoli autonomi a scopi più avanzati come la diagnosi medica, l'AI continua a plasmare il futuro con innovazioni che sfidano i limiti delle capacità umane\n",
            "\n",
            "\n",
            "\n",
            "###  multi-qa-distilbert-cos-v1  #############################################################\n",
            "0: (0.6778872013092041) - Il rugby, sport di squadra nato nell'Inghilterra del XIX secolo, si distingue per la sua combinazione di forza, tattica e fair play. Caratterizzato dai placcaggi e dalla solidarietà di squadra, il rugby promuove valori di lealtà e rispetto, creando un'atmosfera unica di cameratismo sul campo di gioco\n",
            "1: (0.4263814389705658) - Milano, capitale economica e della moda italiana, incanta con la sua vibrante energia urbana. Icone architettoniche come il Duomo e la moderna skyline si fondono con l'arte contemporanea e la vivace scena culinaria. Centro pulsante di innovazione e cultura, Milano è una città dinamica che unisce tradizione e modernità con eleganza e stile\n",
            "2: (0.4199346899986267) - Roma è il cuore pulsante della storia e della cultura italiana. Con oltre duemila anni di storia, la città vanta imponenti monumenti come il Colosseo e il Pantheon, testimonianze della grandezza dell'antica Roma. Il Vaticano, con la Basilica di San Pietro e la Cappella Sistina, aggiunge un tocco spirituale a questa metropoli cosmopolita, che continua a incantare con la sua architettura maestosa e il suo stile di vita vibrante\n",
            "3: (0.4053022265434265) - Gli Uffizi, situati nel cuore di Firenze, costituiscono uno dei musei d'arte più celebri al mondo. La loro straordinaria collezione comprende capolavori di artisti come Botticelli, Michelangelo e Leonardo da Vinci, offrendo ai visitatori un viaggio affascinante attraverso la storia dell'arte rinascimentale italiana\n",
            "4: (0.3972001075744629) - I fantasmi, creature leggendarie che popolano l'immaginario collettivo, sono spesso associati al mistero e all'oltremondano. I fantasmi evocano sensazioni di timore e curiosità, alimentando paure in molte persone\n",
            "5: (0.3588225245475769) - Il cellulare, ormai indispensabile nella vita moderna, è uno strumento versatile che va oltre la semplice comunicazione. Con funzionalità avanzate, come fotocamere di alta qualità, accesso a internet e applicazioni specializzate, il cellulare si è trasformato in un compagno quotidiano, rivoluzionando la nostra connessione con il mondo e le relazioni sociali\n",
            "6: (0.32814231514930725) - La Pinacoteca di Brera, situata nel cuore di Milano, è una prestigiosa galleria d'arte che ospita una ricca collezione di opere italiane dal XIV al XX secolo. Celebrata per capolavori di artisti come Raphael, Caravaggio e Mantegna\n",
            "7: (0.3223303258419037) - L'Intelligenza Artificiale (AI) rappresenta una frontiera rivoluzionaria nell'informatica, consentendo alle macchine di apprendere, ragionare e risolvere problemi complessi in modo simile all'intelligenza umana. Dalle applicazioni pratiche come assistenti virtuali e veicoli autonomi a scopi più avanzati come la diagnosi medica, l'AI continua a plasmare il futuro con innovazioni che sfidano i limiti delle capacità umane\n",
            "8: (0.3062887489795685) - Il tofu, derivato dalla soia, è un versatile alimento ricco di proteine e povero di grassi. Apprezzato per la sua consistenza delicata, il tofu si presta a molteplici preparazioni culinarie, assumendo sapori diversi nelle varie cucine del mondo. La sua versatilità lo rende una scelta popolare per chi segue diete vegetariane e vegane\n",
            "9: (0.2911543846130371) - Vinavil è un adesivo vinilico multiuso noto per la sua versatilità e aderenza affidabile. Utilizzato comunemente in ambito scolastico e fai-da-te, Vinavil è apprezzato per la sua capacità di incollare diversi materiali, dalla carta al legno, offrendo una soluzione pratica e resistente per molteplici progetti\n",
            "\n",
            "\n",
            "\n",
            "###  all-MiniLM-L6-v2  #############################################################\n",
            "0: (0.5625291466712952) - Il rugby, sport di squadra nato nell'Inghilterra del XIX secolo, si distingue per la sua combinazione di forza, tattica e fair play. Caratterizzato dai placcaggi e dalla solidarietà di squadra, il rugby promuove valori di lealtà e rispetto, creando un'atmosfera unica di cameratismo sul campo di gioco\n",
            "1: (0.44766494631767273) - Vinavil è un adesivo vinilico multiuso noto per la sua versatilità e aderenza affidabile. Utilizzato comunemente in ambito scolastico e fai-da-te, Vinavil è apprezzato per la sua capacità di incollare diversi materiali, dalla carta al legno, offrendo una soluzione pratica e resistente per molteplici progetti\n",
            "2: (0.3937529921531677) - Gli Uffizi, situati nel cuore di Firenze, costituiscono uno dei musei d'arte più celebri al mondo. La loro straordinaria collezione comprende capolavori di artisti come Botticelli, Michelangelo e Leonardo da Vinci, offrendo ai visitatori un viaggio affascinante attraverso la storia dell'arte rinascimentale italiana\n",
            "3: (0.3908943235874176) - I fantasmi, creature leggendarie che popolano l'immaginario collettivo, sono spesso associati al mistero e all'oltremondano. I fantasmi evocano sensazioni di timore e curiosità, alimentando paure in molte persone\n",
            "4: (0.37895917892456055) - Roma è il cuore pulsante della storia e della cultura italiana. Con oltre duemila anni di storia, la città vanta imponenti monumenti come il Colosseo e il Pantheon, testimonianze della grandezza dell'antica Roma. Il Vaticano, con la Basilica di San Pietro e la Cappella Sistina, aggiunge un tocco spirituale a questa metropoli cosmopolita, che continua a incantare con la sua architettura maestosa e il suo stile di vita vibrante\n",
            "5: (0.36316296458244324) - Il tofu, derivato dalla soia, è un versatile alimento ricco di proteine e povero di grassi. Apprezzato per la sua consistenza delicata, il tofu si presta a molteplici preparazioni culinarie, assumendo sapori diversi nelle varie cucine del mondo. La sua versatilità lo rende una scelta popolare per chi segue diete vegetariane e vegane\n",
            "6: (0.322872519493103) - L'Intelligenza Artificiale (AI) rappresenta una frontiera rivoluzionaria nell'informatica, consentendo alle macchine di apprendere, ragionare e risolvere problemi complessi in modo simile all'intelligenza umana. Dalle applicazioni pratiche come assistenti virtuali e veicoli autonomi a scopi più avanzati come la diagnosi medica, l'AI continua a plasmare il futuro con innovazioni che sfidano i limiti delle capacità umane\n",
            "7: (0.311361163854599) - La Pinacoteca di Brera, situata nel cuore di Milano, è una prestigiosa galleria d'arte che ospita una ricca collezione di opere italiane dal XIV al XX secolo. Celebrata per capolavori di artisti come Raphael, Caravaggio e Mantegna\n",
            "8: (0.30912935733795166) - Milano, capitale economica e della moda italiana, incanta con la sua vibrante energia urbana. Icone architettoniche come il Duomo e la moderna skyline si fondono con l'arte contemporanea e la vivace scena culinaria. Centro pulsante di innovazione e cultura, Milano è una città dinamica che unisce tradizione e modernità con eleganza e stile\n",
            "9: (0.3041561245918274) - Il cellulare, ormai indispensabile nella vita moderna, è uno strumento versatile che va oltre la semplice comunicazione. Con funzionalità avanzate, come fotocamere di alta qualità, accesso a internet e applicazioni specializzate, il cellulare si è trasformato in un compagno quotidiano, rivoluzionando la nostra connessione con il mondo e le relazioni sociali\n",
            "\n",
            "\n",
            "\n"
          ]
        }
      ]
    },
    {
      "cell_type": "markdown",
      "source": [
        "![image.png](data:image/png;base64,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)"
      ],
      "metadata": {
        "id": "Vnrw0-VizV7J"
      }
    },
    {
      "cell_type": "markdown",
      "source": [
        "Il grafico sopra rappresenta una stima indicativa di come i modelli siano stati coerenti nei confronti delle 3 query provate. Tutti i modelli sembrano performare abbastanza bene, anche se quello che ha funzionato meglio con tutte le query è **all-mpnet-base-v2**"
      ],
      "metadata": {
        "id": "tZBnfWWhEHi1"
      }
    }
  ]
}